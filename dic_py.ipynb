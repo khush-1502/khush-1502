{
  "nbformat": 4,
  "nbformat_minor": 0,
  "metadata": {
    "colab": {
      "provenance": [],
      "authorship_tag": "ABX9TyOkaKNJGMztt+RguwypCZJb",
      "include_colab_link": true
    },
    "kernelspec": {
      "name": "python3",
      "display_name": "Python 3"
    },
    "language_info": {
      "name": "python"
    }
  },
  "cells": [
    {
      "cell_type": "markdown",
      "metadata": {
        "id": "view-in-github",
        "colab_type": "text"
      },
      "source": [
        "<a href=\"https://colab.research.google.com/github/khush-1502/khush-1502/blob/basix/dic_py.ipynb\" target=\"_parent\"><img src=\"https://colab.research.google.com/assets/colab-badge.svg\" alt=\"Open In Colab\"/></a>"
      ]
    },
    {
      "cell_type": "code",
      "execution_count": 1,
      "metadata": {
        "colab": {
          "base_uri": "https://localhost:8080/",
          "height": 35
        },
        "id": "qA8g8367PX9m",
        "outputId": "214d3ca8-0f3e-41d1-fc28-1cd27d0c2476"
      },
      "outputs": [
        {
          "output_type": "execute_result",
          "data": {
            "text/plain": [
              "'khushi'"
            ],
            "application/vnd.google.colaboratory.intrinsic+json": {
              "type": "string"
            }
          },
          "metadata": {},
          "execution_count": 1
        }
      ],
      "source": [
        "user={\"name\":\"khushi\",\"age\":20,\"subject\":\"python\"}\n",
        "user[\"name\"]"
      ]
    },
    {
      "cell_type": "code",
      "source": [
        "user={\"name\":\"khushi\",\"age\":20,\"subject\":\"python\"}\n",
        "user[\"name\"]\n",
        "user[\"age\"]"
      ],
      "metadata": {
        "colab": {
          "base_uri": "https://localhost:8080/"
        },
        "id": "kShgl-ZQPyDL",
        "outputId": "7afc8a47-375a-41a7-9079-e8f37bdf0924"
      },
      "execution_count": 2,
      "outputs": [
        {
          "output_type": "execute_result",
          "data": {
            "text/plain": [
              "20"
            ]
          },
          "metadata": {},
          "execution_count": 2
        }
      ]
    },
    {
      "cell_type": "code",
      "source": [
        "user={\"name\":\"khushi\",\"age\":20,\"subject\":\"python\"}\n",
        "print(user)"
      ],
      "metadata": {
        "colab": {
          "base_uri": "https://localhost:8080/"
        },
        "id": "UoSox0XKP7s8",
        "outputId": "b996d67e-2e5a-4c9b-fefd-90367a2d13e4"
      },
      "execution_count": 3,
      "outputs": [
        {
          "output_type": "stream",
          "name": "stdout",
          "text": [
            "{'name': 'khushi', 'age': 20, 'subject': 'python'}\n"
          ]
        }
      ]
    },
    {
      "cell_type": "code",
      "source": [
        "user={\"name\":\"khushi\",\"age\":20,\"subject\":\"python\",\"name\":\"khushi\"}\n",
        "print(user)\n",
        "\n"
      ],
      "metadata": {
        "colab": {
          "base_uri": "https://localhost:8080/"
        },
        "id": "p7lQLisEQD8B",
        "outputId": "f6a05201-b5fb-4c10-d3fc-b2f18db7e4cb"
      },
      "execution_count": 4,
      "outputs": [
        {
          "output_type": "stream",
          "name": "stdout",
          "text": [
            "{'name': 'khushi', 'age': 20, 'subject': 'python'}\n"
          ]
        }
      ]
    },
    {
      "cell_type": "code",
      "source": [
        "user={\"name\":\"khushi\",\"age\":20,\"subject\":\"python\",\"name\":\"khushi\"}\n",
        "print(user.keys())\n",
        "\n"
      ],
      "metadata": {
        "colab": {
          "base_uri": "https://localhost:8080/"
        },
        "id": "k4e1tPeRVMHq",
        "outputId": "d93ba965-06ef-4175-b733-f1b434d4974e"
      },
      "execution_count": 5,
      "outputs": [
        {
          "output_type": "stream",
          "name": "stdout",
          "text": [
            "dict_keys(['name', 'age', 'subject'])\n"
          ]
        }
      ]
    },
    {
      "cell_type": "code",
      "source": [
        "user={\"name\":\"khushi\",\"age\":20,\"subject\":\"python\"}\n",
        "for keys,value in user.items():\n",
        "\n",
        "\n",
        " print(keys,value)"
      ],
      "metadata": {
        "colab": {
          "base_uri": "https://localhost:8080/"
        },
        "id": "BWyJ9Ir-VVHy",
        "outputId": "399fed34-65a6-4915-bde0-652043151b06"
      },
      "execution_count": 12,
      "outputs": [
        {
          "output_type": "stream",
          "name": "stdout",
          "text": [
            "name khushi\n",
            "age 20\n",
            "subject python\n"
          ]
        }
      ]
    },
    {
      "cell_type": "code",
      "source": [
        "user={\"name\":\"khushi\",\"age\":20,\"subject\":\"python\"}\n",
        "user.update({\"surname\":\"morwal\"})\n",
        "print(user)"
      ],
      "metadata": {
        "colab": {
          "base_uri": "https://localhost:8080/"
        },
        "id": "BungteJzV6DP",
        "outputId": "be5b111a-6dbb-400c-bbcd-4a19ba4a3021"
      },
      "execution_count": 8,
      "outputs": [
        {
          "output_type": "stream",
          "name": "stdout",
          "text": [
            "{'name': 'khushi', 'age': 20, 'subject': 'python', 'surname': 'morwal'}\n"
          ]
        }
      ]
    },
    {
      "cell_type": "code",
      "source": [
        "user={\"name\":\"khushi\",\"age\":20,\"subject\":\"python\"}\n",
        "user.pop(\"name\")\n",
        "print(user)"
      ],
      "metadata": {
        "colab": {
          "base_uri": "https://localhost:8080/"
        },
        "id": "U3iiswykWgxY",
        "outputId": "b036a633-a304-4d18-b8b9-ff96da069afc"
      },
      "execution_count": 9,
      "outputs": [
        {
          "output_type": "stream",
          "name": "stdout",
          "text": [
            "{'age': 20, 'subject': 'python'}\n"
          ]
        }
      ]
    },
    {
      "cell_type": "code",
      "source": [
        "user={\"name\":\"khushi\",\"age\":20,\"subject\":\"python\"}\n",
        "user.popitem()\n",
        "print(user)"
      ],
      "metadata": {
        "colab": {
          "base_uri": "https://localhost:8080/"
        },
        "id": "opB32o0HW1PE",
        "outputId": "ed8eaaf2-cd64-4357-af04-fa826451bf72"
      },
      "execution_count": 10,
      "outputs": [
        {
          "output_type": "stream",
          "name": "stdout",
          "text": [
            "{'name': 'khushi', 'age': 20}\n"
          ]
        }
      ]
    },
    {
      "cell_type": "code",
      "source": [
        "user={\"name\":\"khushi\",\"age\":20,\"subject\":\"python\"}\n",
        "del user[\"name\"]\n",
        "print(user)"
      ],
      "metadata": {
        "colab": {
          "base_uri": "https://localhost:8080/"
        },
        "id": "QwcHfVFvXAvR",
        "outputId": "c5765024-6e42-4ae5-c602-df4173b94f02"
      },
      "execution_count": 11,
      "outputs": [
        {
          "output_type": "stream",
          "name": "stdout",
          "text": [
            "{'age': 20, 'subject': 'python'}\n"
          ]
        }
      ]
    }
  ]
}