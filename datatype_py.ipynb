{
  "nbformat": 4,
  "nbformat_minor": 0,
  "metadata": {
    "colab": {
      "provenance": [],
      "authorship_tag": "ABX9TyPFQz1JcN6MnM52j0kePLkZ",
      "include_colab_link": true
    },
    "kernelspec": {
      "name": "python3",
      "display_name": "Python 3"
    },
    "language_info": {
      "name": "python"
    }
  },
  "cells": [
    {
      "cell_type": "markdown",
      "metadata": {
        "id": "view-in-github",
        "colab_type": "text"
      },
      "source": [
        "<a href=\"https://colab.research.google.com/github/khush-1502/khush-1502/blob/basix/datatype_py.ipynb\" target=\"_parent\"><img src=\"https://colab.research.google.com/assets/colab-badge.svg\" alt=\"Open In Colab\"/></a>"
      ]
    },
    {
      "cell_type": "code",
      "source": [
        "a=input('enter first number')\n",
        "b=input('enter second number')\n",
        "c=int(a)+int(b)\n",
        "print(\"addition=\")\n",
        "print(c)\n",
        "d=int(a)-int(b)\n",
        "print(\"subtraction=\")\n",
        "print(d)\n",
        "e=int(a)*int(b)\n",
        "print(\"multiplication=\")\n",
        "print(e)\n",
        "f=int(a)/int(b)\n",
        "print(\"division=\")\n",
        "print(f)\n",
        "g=int(a)%int(b)\n",
        "print(\"modulous=\")\n",
        "print(g)"
      ],
      "metadata": {
        "colab": {
          "base_uri": "https://localhost:8080/"
        },
        "id": "mhn4LF-tmJ0S",
        "outputId": "699522f5-ffb6-4ffe-aa63-a319477de439"
      },
      "execution_count": null,
      "outputs": [
        {
          "output_type": "stream",
          "name": "stdout",
          "text": [
            "enter first number10\n",
            "enter second number20\n",
            "addition=\n",
            "30\n",
            "subtraction=\n",
            "-10\n",
            "multiplication=\n",
            "200\n",
            "division=\n",
            "0.5\n",
            "modulous=\n",
            "10\n"
          ]
        }
      ]
    }
  ]
}